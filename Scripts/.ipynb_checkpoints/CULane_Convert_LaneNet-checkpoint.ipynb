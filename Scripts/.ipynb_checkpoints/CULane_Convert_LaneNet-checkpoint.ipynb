{
 "cells": [
  {
   "cell_type": "code",
   "execution_count": 1,
   "metadata": {},
   "outputs": [],
   "source": [
    "# usage: $python3 CULane_Convert_LaneNet.py\n",
    "# Will save converted CULANE into the same location that this script is run."
   ]
  },
  {
   "cell_type": "markdown",
   "metadata": {},
   "source": [
    "## Imports"
   ]
  },
  {
   "cell_type": "code",
   "execution_count": 2,
   "metadata": {},
   "outputs": [
    {
     "name": "stdout",
     "output_type": "stream",
     "text": [
      "Successfully imported all\n"
     ]
    }
   ],
   "source": [
    "from shutil import copy\n",
    "from shutil import copyfile\n",
    "import os\n",
    "import sys\n",
    "import cv2 as cv2\n",
    "import numpy as np\n",
    "import matplotlib.pyplot as plt\n",
    "from os import listdir\n",
    "from os.path import isfile, join\n",
    "from os import walk\n",
    "import IPython\n",
    "#IPython.embed() # to debug in notebook\n",
    "import random\n",
    "print(\"Successfully imported all\")"
   ]
  },
  {
   "cell_type": "markdown",
   "metadata": {},
   "source": [
    "## Constants and paths"
   ]
  },
  {
   "cell_type": "code",
   "execution_count": 3,
   "metadata": {},
   "outputs": [
    {
     "name": "stdout",
     "output_type": "stream",
     "text": [
      "CWD:  /root/atlas_root/home/cjcramer/lane_lines/Scripts/\n"
     ]
    }
   ],
   "source": [
    "cwd = os.getcwd() + \"/\"\n",
    "print(\"CWD: \", cwd)"
   ]
  },
  {
   "cell_type": "code",
   "execution_count": 4,
   "metadata": {},
   "outputs": [],
   "source": [
    "display_results = False if sys.argv[-1] == \"--no-vis\" else True"
   ]
  },
  {
   "cell_type": "code",
   "execution_count": 10,
   "metadata": {},
   "outputs": [
    {
     "name": "stdout",
     "output_type": "stream",
     "text": [
      "Export folder:  /root/atlas_root/home/cjcramer/lane_lines/Scripts/culane_dataset_lanenet/\n",
      "base_export_dir:  /root/root_dit_atlas/home/cjcramer/lane_lines/LaneNet/data//root/atlas_root/home/cjcramer/lane_lines/Scripts/culane_dataset_lanenet/\n",
      "CULane path:  /root/atlas_root/teams/team-1/Datasets/CULane_Dataset/\n"
     ]
    }
   ],
   "source": [
    "export_folder_name = cwd + \"culane_dataset_lanenet/\"\n",
    "print(\"Export folder: \", export_folder_name)\n",
    "\n",
    "export_img_dir = export_folder_name + \"image/\"\n",
    "export_instance_dir = export_folder_name + \"gt_image_instance/\"\n",
    "export_binary_dir = export_folder_name + \"gt_image_binary/\"\n",
    "\n",
    "# CHANGE THIS TO THE LOCATION OF YOUR LANENET DATA FOLDER\n",
    "base_export_dir = \"/root/root_dit_atlas/home/cjcramer/lane_lines/LaneNet/data/culane_dataset_lanenet\" + \n",
    "print(\"base_export_dir: \", base_export_dir)\n",
    "\n",
    "image_dir = base_export_dir + \"image/\"\n",
    "instance_dir = base_export_dir + \"gt_image_instance/\"\n",
    "binary_dir = base_export_dir + \"gt_image_binary/\"\n",
    "validation_path = base_export_dir + \"val.txt\"\n",
    "train_path = base_export_dir + \"train.txt\"\n",
    "\n",
    "# CHANGE THIS TO THE LOCATION OF YOUR CULANE DATASET\n",
    "data_base_dir = \"/root/atlas_root/teams/team-1/Datasets/CULane_Dataset/\"\n",
    "print(\"CULane path: \", data_base_dir)\n",
    "\n",
    "# Folders of annotations\n",
    "annotation_dir = data_base_dir + \"laneseg_label_w16/\"\n",
    "\n",
    "# Take all images from annotation directory, get corresponding actual image from CULane,\n",
    "# convert the image into annotations with values 20, 70, 120, 170\n",
    "# convert the image to all white annotations"
   ]
  },
  {
   "cell_type": "markdown",
   "metadata": {},
   "source": [
    "## Convert notebook to python file"
   ]
  },
  {
   "cell_type": "code",
   "execution_count": 6,
   "metadata": {},
   "outputs": [],
   "source": [
    "#!jupyter nbconvert --to script CULane_Remake.ipynb\n",
    "# Can use the command line argument instead:\n",
    "#$jupyter nbconvert --to script CULane_Remake.ipynb"
   ]
  },
  {
   "cell_type": "markdown",
   "metadata": {},
   "source": [
    "## Print pretty with colors"
   ]
  },
  {
   "cell_type": "code",
   "execution_count": 7,
   "metadata": {},
   "outputs": [],
   "source": [
    "# Credit: https://stackoverflow.com/questions/287871/print-in-terminal-with-colors\n",
    "class CMD_C:\n",
    "    HEADER = '\\033[95m'\n",
    "    OKBLUE = '\\033[94m'\n",
    "    OKGREEN = '\\033[92m'\n",
    "    WARNING = '\\033[93m'\n",
    "    FAIL = '\\033[91m'\n",
    "    ENDC = '\\033[0m'   # End formatting\n",
    "    BOLD = '\\033[1m'\n",
    "    UNDERLINE = '\\033[4m'"
   ]
  },
  {
   "cell_type": "markdown",
   "metadata": {},
   "source": [
    "## Helper functions"
   ]
  },
  {
   "cell_type": "code",
   "execution_count": 8,
   "metadata": {},
   "outputs": [],
   "source": [
    "def make_dir(dir_path):\n",
    "    if (os.path.exists(dir_path)):\n",
    "        print(dir_path, CMD_C.OKGREEN, \" already exists in the current working direcrectory: \", CMD_C.ENDC, cwd, sep=\"\")\n",
    "    else:\n",
    "        try:\n",
    "            os.mkdir(dir_path)\n",
    "        except OSError:\n",
    "            print(FAIL, \"Could not create destination folder: \", dir_path, ENDC)\n",
    "            return False\n",
    "        else:\n",
    "            print(\"Sucessfully made destination folder: \", dir_path)\n",
    "    return True"
   ]
  },
  {
   "cell_type": "markdown",
   "metadata": {},
   "source": [
    "# Gather all file paths"
   ]
  },
  {
   "cell_type": "code",
   "execution_count": 9,
   "metadata": {},
   "outputs": [
    {
     "name": "stdout",
     "output_type": "stream",
     "text": [
      "Number of annotations total: \u001b[94m98877\u001b[0m\n"
     ]
    }
   ],
   "source": [
    "# Credit: https://www.mkyong.com/python/python-how-to-list-all-files-in-a-directory/\n",
    "annotation_paths = []\n",
    "for r, d, files in os.walk(annotation_dir):\n",
    "    for file in files:\n",
    "        annotation_paths.append(os.path.join(r, file))\n",
    "\n",
    "print(\"Number of annotations total: \", CMD_C.OKBLUE, len(annotation_paths), CMD_C.ENDC, sep=\"\")"
   ]
  },
  {
   "cell_type": "markdown",
   "metadata": {},
   "source": [
    "# Gather corresponding actual pictures "
   ]
  },
  {
   "cell_type": "code",
   "execution_count": 10,
   "metadata": {},
   "outputs": [
    {
     "name": "stdout",
     "output_type": "stream",
     "text": [
      "Example paths\n",
      "/root/atlas_root/teams/team-1/Datasets/CULane_Dataset/driver_161_90frame/06031608_0865.MP4/03150.jpg\n",
      "/root/atlas_root/teams/team-1/Datasets/CULane_Dataset/laneseg_label_w16/driver_161_90frame/06031608_0865.MP4/03150.png\n",
      "/root/root_dit_atlas/home/cjcramer/lane_lines/LaneNet/data/image/0.png\n",
      "/root/root_dit_atlas/home/cjcramer/lane_lines/LaneNet/data/gt_image_binary/0.png\n",
      "/root/root_dit_atlas/home/cjcramer/lane_lines/LaneNet/data/gt_image_instance/0.png\n",
      "/root/atlas_root/home/cjcramer/lane_lines/Scripts/culane_dataset_lanenet/image/0.png\n",
      "/root/atlas_root/home/cjcramer/lane_lines/Scripts/culane_dataset_lanenet/gt_image_binary/0.png\n",
      "/root/atlas_root/home/cjcramer/lane_lines/Scripts/culane_dataset_lanenet/gt_image_instance/0.png \n",
      "\n",
      "/root/atlas_root/teams/team-1/Datasets/CULane_Dataset/driver_161_90frame/06031608_0865.MP4/02610.jpg\n",
      "/root/atlas_root/teams/team-1/Datasets/CULane_Dataset/laneseg_label_w16/driver_161_90frame/06031608_0865.MP4/02610.png\n",
      "/root/root_dit_atlas/home/cjcramer/lane_lines/LaneNet/data/image/1.png\n",
      "/root/root_dit_atlas/home/cjcramer/lane_lines/LaneNet/data/gt_image_binary/1.png\n",
      "/root/root_dit_atlas/home/cjcramer/lane_lines/LaneNet/data/gt_image_instance/1.png\n",
      "/root/atlas_root/home/cjcramer/lane_lines/Scripts/culane_dataset_lanenet/image/1.png\n",
      "/root/atlas_root/home/cjcramer/lane_lines/Scripts/culane_dataset_lanenet/gt_image_binary/1.png\n",
      "/root/atlas_root/home/cjcramer/lane_lines/Scripts/culane_dataset_lanenet/gt_image_instance/1.png \n",
      "\n"
     ]
    }
   ],
   "source": [
    "paths = []   # CULane img, CULane annot, In LaneNet img, in LaneNet binary, in LaneNet inst, copy to img, copy to binary, copy to inst \n",
    "new_file_name_counter = 0      # Since CULane has many files with the same name in different directories, enumerate the pictures.\n",
    "\n",
    "for annot_path in annotation_paths:\n",
    "    tok = annot_path.split(\"/\")\n",
    "    filename = tok[-1]\n",
    "    filename_no_ext = filename.split(\".\")[0]\n",
    "    path = \"/\".join(tok[-3:-1])\n",
    "    path_to_file = data_base_dir + path + \"/\" + filename_no_ext + \".jpg\"\n",
    "    # Check to see if that file actually exists, because not all annotated pictures have pitures?\n",
    "    # Or I deleted some pictures?\n",
    "    # Should /CULane_Dataset/driver_161_90frame/06031716_0888.MP4/ be empty?\n",
    "    if os.path.isfile(path_to_file) == False:\n",
    "        continue\n",
    "    \n",
    "    image_path_lanenet = image_dir + str(new_file_name_counter) + \".png\"\n",
    "    binary_path_lanenet = binary_dir + str(new_file_name_counter) + \".png\"\n",
    "    instance_path_lanenet = instance_dir + str(new_file_name_counter) + \".png\"\n",
    "   \n",
    "    export_image_path_lanenet = export_img_dir + str(new_file_name_counter) + \".png\"\n",
    "    export_binary_path_lanenet = export_binary_dir + str(new_file_name_counter) + \".png\"\n",
    "    export_instance_path_lanenet = export_instance_dir + str(new_file_name_counter) + \".png\"\n",
    "    \n",
    "    paths.append((path_to_file, annot_path, image_path_lanenet, binary_path_lanenet, instance_path_lanenet, export_image_path_lanenet, export_binary_path_lanenet, export_instance_path_lanenet))\n",
    "    new_file_name_counter += 1\n",
    "    \n",
    "    \n",
    "print(\"Example paths\")\n",
    "for i in range(0, 2):\n",
    "    print(paths[i][0])\n",
    "    print(paths[i][1])\n",
    "    print(paths[i][2])\n",
    "    print(paths[i][3])\n",
    "    print(paths[i][4])\n",
    "    print(paths[i][5])\n",
    "    print(paths[i][6])\n",
    "    print(paths[i][7], \"\\n\")"
   ]
  },
  {
   "cell_type": "markdown",
   "metadata": {},
   "source": [
    "# Make destination folder to save all outputs to"
   ]
  },
  {
   "cell_type": "code",
   "execution_count": 11,
   "metadata": {},
   "outputs": [
    {
     "name": "stdout",
     "output_type": "stream",
     "text": [
      "/root/atlas_root/home/cjcramer/lane_lines/Scripts/culane_dataset_lanenet/\u001b[92m already exists in the current working direcrectory: \u001b[0m/root/atlas_root/home/cjcramer/lane_lines/Scripts/\n",
      "/root/atlas_root/home/cjcramer/lane_lines/Scripts/culane_dataset_lanenet/image/\u001b[92m already exists in the current working direcrectory: \u001b[0m/root/atlas_root/home/cjcramer/lane_lines/Scripts/\n",
      "/root/atlas_root/home/cjcramer/lane_lines/Scripts/culane_dataset_lanenet/gt_image_instance/\u001b[92m already exists in the current working direcrectory: \u001b[0m/root/atlas_root/home/cjcramer/lane_lines/Scripts/\n",
      "/root/atlas_root/home/cjcramer/lane_lines/Scripts/culane_dataset_lanenet/gt_image_binary/\u001b[92m already exists in the current working direcrectory: \u001b[0m/root/atlas_root/home/cjcramer/lane_lines/Scripts/\n"
     ]
    }
   ],
   "source": [
    "folders_to_create = [export_folder_name, export_folder_name + \"image/\", export_folder_name + \"gt_image_instance/\", export_folder_name + \"gt_image_binary/\"]\n",
    "for folder in folders_to_create:\n",
    "    if make_dir(folder) == False:\n",
    "        print(CMD_C.FAIL, \"COULD NOT CREATE THE FOLDER: \", folder, CMD_C.ENDC, sep=\"\")"
   ]
  },
  {
   "cell_type": "markdown",
   "metadata": {},
   "source": [
    "# Save train.txt and val.txt"
   ]
  },
  {
   "cell_type": "code",
   "execution_count": 12,
   "metadata": {},
   "outputs": [
    {
     "name": "stdout",
     "output_type": "stream",
     "text": [
      "Wrote train.txt and val.txt\n"
     ]
    }
   ],
   "source": [
    "# 0.9 to 0.1 train val split\n",
    "with open(export_folder_name + \"train.txt\", \"w\") as train_file:\n",
    "    with open(export_folder_name + \"val.txt\", \"w\") as val_file:\n",
    "        for _, _, img_path, bin_path, inst_path, _, _, _ in paths:\n",
    "            str_to_write = img_path + \" \" + bin_path + \" \" + inst_path + \"\\n\"\n",
    "            if random.random() < 0.9:\n",
    "                train_file.write(str_to_write)\n",
    "            else:\n",
    "                val_file.write(str_to_write)\n",
    "print(\"Wrote train.txt and val.txt\")"
   ]
  },
  {
   "cell_type": "markdown",
   "metadata": {},
   "source": [
    "## Main loop"
   ]
  },
  {
   "cell_type": "code",
   "execution_count": 13,
   "metadata": {},
   "outputs": [
    {
     "name": "stdout",
     "output_type": "stream",
     "text": [
      "Processing image \u001b[92m1\u001b[0m / 98555 : \u001b[92m0.0% | \u001b[0m\u001b[91m /root/atlas_root/home/cjcramer/lane_lines/Scripts/culane_dataset_lanenet/image/0.png  already exists, DO NOT WANT TO OVERWRITE IT SO SKIPPING \u001b[0m\n",
      "Processing image \u001b[92m2\u001b[0m / 98555 : \u001b[92m0.0% | \u001b[0m\u001b[91m /root/atlas_root/home/cjcramer/lane_lines/Scripts/culane_dataset_lanenet/image/1.png  already exists, DO NOT WANT TO OVERWRITE IT SO SKIPPING \u001b[0m\n",
      "Processing image \u001b[92m3\u001b[0m / 98555 : \u001b[92m0.0% | \u001b[0m\u001b[91m /root/atlas_root/home/cjcramer/lane_lines/Scripts/culane_dataset_lanenet/image/2.png  already exists, DO NOT WANT TO OVERWRITE IT SO SKIPPING \u001b[0m\n",
      "Processing image \u001b[92m4\u001b[0m / 98555 : \u001b[92m0.0% | \u001b[0m\u001b[91m /root/atlas_root/home/cjcramer/lane_lines/Scripts/culane_dataset_lanenet/image/3.png  already exists, DO NOT WANT TO OVERWRITE IT SO SKIPPING \u001b[0m\n",
      "Processing image \u001b[92m5\u001b[0m / 98555 : \u001b[92m0.0% | \u001b[0m\u001b[91m /root/atlas_root/home/cjcramer/lane_lines/Scripts/culane_dataset_lanenet/image/4.png  already exists, DO NOT WANT TO OVERWRITE IT SO SKIPPING \u001b[0m\n",
      "Processing image \u001b[92m6\u001b[0m / 98555 : \u001b[92m0.0% | \u001b[0m\u001b[91m /root/atlas_root/home/cjcramer/lane_lines/Scripts/culane_dataset_lanenet/image/5.png  already exists, DO NOT WANT TO OVERWRITE IT SO SKIPPING \u001b[0m\n",
      "Processing image \u001b[92m7\u001b[0m / 98555 : \u001b[92m0.0% | \u001b[0m\u001b[91m /root/atlas_root/home/cjcramer/lane_lines/Scripts/culane_dataset_lanenet/image/6.png  already exists, DO NOT WANT TO OVERWRITE IT SO SKIPPING \u001b[0m\n",
      "Processing image \u001b[92m8\u001b[0m / 98555 : \u001b[92m0.0% | \u001b[0m\u001b[91m /root/atlas_root/home/cjcramer/lane_lines/Scripts/culane_dataset_lanenet/image/7.png  already exists, DO NOT WANT TO OVERWRITE IT SO SKIPPING \u001b[0m\n",
      "Processing image \u001b[92m9\u001b[0m / 98555 : \u001b[92m0.0% | \u001b[0m\u001b[91m /root/atlas_root/home/cjcramer/lane_lines/Scripts/culane_dataset_lanenet/image/8.png  already exists, DO NOT WANT TO OVERWRITE IT SO SKIPPING \u001b[0m\n",
      "Processing image \u001b[92m10\u001b[0m / 98555 : \u001b[92m0.0% | \u001b[0m\u001b[91m /root/atlas_root/home/cjcramer/lane_lines/Scripts/culane_dataset_lanenet/image/9.png  already exists, DO NOT WANT TO OVERWRITE IT SO SKIPPING \u001b[0m\n",
      "Processing image \u001b[92m11\u001b[0m / 98555 : \u001b[92m0.0% | \u001b[0m\u001b[91m /root/atlas_root/home/cjcramer/lane_lines/Scripts/culane_dataset_lanenet/image/10.png  already exists, DO NOT WANT TO OVERWRITE IT SO SKIPPING \u001b[0m\n",
      "Processing image \u001b[92m12\u001b[0m / 98555 : \u001b[92m0.0% | \u001b[0m\u001b[91m /root/atlas_root/home/cjcramer/lane_lines/Scripts/culane_dataset_lanenet/image/11.png  already exists, DO NOT WANT TO OVERWRITE IT SO SKIPPING \u001b[0m\n",
      "Processing image \u001b[92m13\u001b[0m / 98555 : \u001b[92m0.0% | \u001b[0m\u001b[91m /root/atlas_root/home/cjcramer/lane_lines/Scripts/culane_dataset_lanenet/image/12.png  already exists, DO NOT WANT TO OVERWRITE IT SO SKIPPING \u001b[0m\n",
      "Processing image \u001b[92m14\u001b[0m / 98555 : \u001b[92m0.0% | \u001b[0m\u001b[91m /root/atlas_root/home/cjcramer/lane_lines/Scripts/culane_dataset_lanenet/image/13.png  already exists, DO NOT WANT TO OVERWRITE IT SO SKIPPING \u001b[0m\n",
      "Processing image \u001b[92m15\u001b[0m / 98555 : \u001b[92m0.0% | \u001b[0m\u001b[91m /root/atlas_root/home/cjcramer/lane_lines/Scripts/culane_dataset_lanenet/image/14.png  already exists, DO NOT WANT TO OVERWRITE IT SO SKIPPING \u001b[0m\n",
      "Processing image \u001b[92m16\u001b[0m / 98555 : \u001b[92m0.0% | \u001b[0m\u001b[91m /root/atlas_root/home/cjcramer/lane_lines/Scripts/culane_dataset_lanenet/image/15.png  already exists, DO NOT WANT TO OVERWRITE IT SO SKIPPING \u001b[0m\n",
      "Processing image \u001b[92m17\u001b[0m / 98555 : \u001b[92m0.0% | \u001b[0m\u001b[91m /root/atlas_root/home/cjcramer/lane_lines/Scripts/culane_dataset_lanenet/image/16.png  already exists, DO NOT WANT TO OVERWRITE IT SO SKIPPING \u001b[0m\n",
      "Processing image \u001b[92m18\u001b[0m / 98555 : \u001b[92m0.0% | \u001b[0m\u001b[91m /root/atlas_root/home/cjcramer/lane_lines/Scripts/culane_dataset_lanenet/image/17.png  already exists, DO NOT WANT TO OVERWRITE IT SO SKIPPING \u001b[0m\n",
      "Processing image \u001b[92m19\u001b[0m / 98555 : \u001b[92m0.0% | \u001b[0m\u001b[91m /root/atlas_root/home/cjcramer/lane_lines/Scripts/culane_dataset_lanenet/image/18.png  already exists, DO NOT WANT TO OVERWRITE IT SO SKIPPING \u001b[0m\n",
      "Processing image \u001b[92m20\u001b[0m / 98555 : \u001b[92m0.0% | \u001b[0m\u001b[91m /root/atlas_root/home/cjcramer/lane_lines/Scripts/culane_dataset_lanenet/image/19.png  already exists, DO NOT WANT TO OVERWRITE IT SO SKIPPING \u001b[0m\n",
      "Processing image \u001b[92m21\u001b[0m / 98555 : \u001b[92m0.0% | \u001b[0m\u001b[91m /root/atlas_root/home/cjcramer/lane_lines/Scripts/culane_dataset_lanenet/image/20.png  already exists, DO NOT WANT TO OVERWRITE IT SO SKIPPING \u001b[0m\n",
      "Processing image \u001b[92m22\u001b[0m / 98555 : \u001b[92m0.0% | \u001b[0m\u001b[91m /root/atlas_root/home/cjcramer/lane_lines/Scripts/culane_dataset_lanenet/image/21.png  already exists, DO NOT WANT TO OVERWRITE IT SO SKIPPING \u001b[0m\n",
      "Processing image \u001b[92m23\u001b[0m / 98555 : \u001b[92m0.0% | \u001b[0m\u001b[91m /root/atlas_root/home/cjcramer/lane_lines/Scripts/culane_dataset_lanenet/image/22.png  already exists, DO NOT WANT TO OVERWRITE IT SO SKIPPING \u001b[0m\n",
      "Processing image \u001b[92m24\u001b[0m / 98555 : \u001b[92m0.0% | \u001b[0m\u001b[91m /root/atlas_root/home/cjcramer/lane_lines/Scripts/culane_dataset_lanenet/image/23.png  already exists, DO NOT WANT TO OVERWRITE IT SO SKIPPING \u001b[0m\n",
      "Processing image \u001b[92m25\u001b[0m / 98555 : \u001b[92m0.0% | \u001b[0m\u001b[91m /root/atlas_root/home/cjcramer/lane_lines/Scripts/culane_dataset_lanenet/image/24.png  already exists, DO NOT WANT TO OVERWRITE IT SO SKIPPING \u001b[0m\n",
      "Processing image \u001b[92m26\u001b[0m / 98555 : \u001b[92m0.0% | \u001b[0m\u001b[91m /root/atlas_root/home/cjcramer/lane_lines/Scripts/culane_dataset_lanenet/image/25.png  already exists, DO NOT WANT TO OVERWRITE IT SO SKIPPING \u001b[0m\n",
      "Processing image \u001b[92m27\u001b[0m / 98555 : \u001b[92m0.0% | \u001b[0m\u001b[91m /root/atlas_root/home/cjcramer/lane_lines/Scripts/culane_dataset_lanenet/image/26.png  already exists, DO NOT WANT TO OVERWRITE IT SO SKIPPING \u001b[0m\n",
      "Processing image \u001b[92m28\u001b[0m / 98555 : \u001b[92m0.0% | \u001b[0m\u001b[91m /root/atlas_root/home/cjcramer/lane_lines/Scripts/culane_dataset_lanenet/image/27.png  already exists, DO NOT WANT TO OVERWRITE IT SO SKIPPING \u001b[0m\n",
      "Processing image \u001b[92m29\u001b[0m / 98555 : \u001b[92m0.0% | \u001b[0m\u001b[91m /root/atlas_root/home/cjcramer/lane_lines/Scripts/culane_dataset_lanenet/image/28.png  already exists, DO NOT WANT TO OVERWRITE IT SO SKIPPING \u001b[0m\n",
      "Processing image \u001b[92m30\u001b[0m / 98555 : \u001b[92m0.0% | \u001b[0m\u001b[91m /root/atlas_root/home/cjcramer/lane_lines/Scripts/culane_dataset_lanenet/image/29.png  already exists, DO NOT WANT TO OVERWRITE IT SO SKIPPING \u001b[0m\n",
      "Processing image \u001b[92m31\u001b[0m / 98555 : \u001b[92m0.0% | \u001b[0m\u001b[91m /root/atlas_root/home/cjcramer/lane_lines/Scripts/culane_dataset_lanenet/image/30.png  already exists, DO NOT WANT TO OVERWRITE IT SO SKIPPING \u001b[0m\n",
      "Processing image \u001b[92m32\u001b[0m / 98555 : \u001b[92m0.0% | \u001b[0m\u001b[91m /root/atlas_root/home/cjcramer/lane_lines/Scripts/culane_dataset_lanenet/image/31.png  already exists, DO NOT WANT TO OVERWRITE IT SO SKIPPING \u001b[0m\n",
      "Processing image \u001b[92m33\u001b[0m / 98555 : \u001b[92m0.0% | \u001b[0m\u001b[91m /root/atlas_root/home/cjcramer/lane_lines/Scripts/culane_dataset_lanenet/image/32.png  already exists, DO NOT WANT TO OVERWRITE IT SO SKIPPING \u001b[0m\n",
      "Processing image \u001b[92m34\u001b[0m / 98555 : \u001b[92m0.0% | \u001b[0m\u001b[91m /root/atlas_root/home/cjcramer/lane_lines/Scripts/culane_dataset_lanenet/image/33.png  already exists, DO NOT WANT TO OVERWRITE IT SO SKIPPING \u001b[0m\n",
      "Processing image \u001b[92m35\u001b[0m / 98555 : \u001b[92m0.0% | \u001b[0m\u001b[91m /root/atlas_root/home/cjcramer/lane_lines/Scripts/culane_dataset_lanenet/image/34.png  already exists, DO NOT WANT TO OVERWRITE IT SO SKIPPING \u001b[0m\n",
      "Processing image \u001b[92m36\u001b[0m / 98555 : \u001b[92m0.0% | \u001b[0m\u001b[91m /root/atlas_root/home/cjcramer/lane_lines/Scripts/culane_dataset_lanenet/image/35.png  already exists, DO NOT WANT TO OVERWRITE IT SO SKIPPING \u001b[0m\n",
      "Processing image \u001b[92m37\u001b[0m / 98555 : \u001b[92m0.0% | \u001b[0m\u001b[91m /root/atlas_root/home/cjcramer/lane_lines/Scripts/culane_dataset_lanenet/image/36.png  already exists, DO NOT WANT TO OVERWRITE IT SO SKIPPING \u001b[0m\n",
      "Processing image \u001b[92m38\u001b[0m / 98555 : \u001b[92m0.0% | \u001b[0m\u001b[91m /root/atlas_root/home/cjcramer/lane_lines/Scripts/culane_dataset_lanenet/image/37.png  already exists, DO NOT WANT TO OVERWRITE IT SO SKIPPING \u001b[0m\n",
      "Processing image \u001b[92m39\u001b[0m / 98555 : \u001b[92m0.0% | \u001b[0m\u001b[91m /root/atlas_root/home/cjcramer/lane_lines/Scripts/culane_dataset_lanenet/image/38.png  already exists, DO NOT WANT TO OVERWRITE IT SO SKIPPING \u001b[0m\n",
      "Processing image \u001b[92m40\u001b[0m / 98555 : \u001b[92m0.0% | \u001b[0m\u001b[91m /root/atlas_root/home/cjcramer/lane_lines/Scripts/culane_dataset_lanenet/image/39.png  already exists, DO NOT WANT TO OVERWRITE IT SO SKIPPING \u001b[0m\n",
      "Processing image \u001b[92m41\u001b[0m / 98555 : \u001b[92m0.0% | \u001b[0m\u001b[91m /root/atlas_root/home/cjcramer/lane_lines/Scripts/culane_dataset_lanenet/image/40.png  already exists, DO NOT WANT TO OVERWRITE IT SO SKIPPING \u001b[0m\n",
      "Processing image \u001b[92m42\u001b[0m / 98555 : \u001b[92m0.0% | \u001b[0m\u001b[91m /root/atlas_root/home/cjcramer/lane_lines/Scripts/culane_dataset_lanenet/image/41.png  already exists, DO NOT WANT TO OVERWRITE IT SO SKIPPING \u001b[0m\n",
      "Processing image \u001b[92m43\u001b[0m / 98555 : \u001b[92m0.0% | \u001b[0m\u001b[91m /root/atlas_root/home/cjcramer/lane_lines/Scripts/culane_dataset_lanenet/image/42.png  already exists, DO NOT WANT TO OVERWRITE IT SO SKIPPING \u001b[0m\n",
      "Processing image \u001b[92m44\u001b[0m / 98555 : \u001b[92m0.0% | \u001b[0m\u001b[91m /root/atlas_root/home/cjcramer/lane_lines/Scripts/culane_dataset_lanenet/image/43.png  already exists, DO NOT WANT TO OVERWRITE IT SO SKIPPING \u001b[0m\n",
      "Processing image \u001b[92m45\u001b[0m / 98555 : \u001b[92m0.0% | \u001b[0m\u001b[91m /root/atlas_root/home/cjcramer/lane_lines/Scripts/culane_dataset_lanenet/image/44.png  already exists, DO NOT WANT TO OVERWRITE IT SO SKIPPING \u001b[0m\n",
      "Processing image \u001b[92m46\u001b[0m / 98555 : \u001b[92m0.0% | \u001b[0m\u001b[91m /root/atlas_root/home/cjcramer/lane_lines/Scripts/culane_dataset_lanenet/image/45.png  already exists, DO NOT WANT TO OVERWRITE IT SO SKIPPING \u001b[0m\n",
      "Processing image \u001b[92m47\u001b[0m / 98555 : \u001b[92m0.0% | \u001b[0m\u001b[91m /root/atlas_root/home/cjcramer/lane_lines/Scripts/culane_dataset_lanenet/image/46.png  already exists, DO NOT WANT TO OVERWRITE IT SO SKIPPING \u001b[0m\n",
      "Processing image \u001b[92m48\u001b[0m / 98555 : \u001b[92m0.0% | \u001b[0m\u001b[91m /root/atlas_root/home/cjcramer/lane_lines/Scripts/culane_dataset_lanenet/image/47.png  already exists, DO NOT WANT TO OVERWRITE IT SO SKIPPING \u001b[0m\n",
      "Processing image \u001b[92m49\u001b[0m / 98555 : \u001b[92m0.0% | \u001b[0m\u001b[91m /root/atlas_root/home/cjcramer/lane_lines/Scripts/culane_dataset_lanenet/image/48.png  already exists, DO NOT WANT TO OVERWRITE IT SO SKIPPING \u001b[0m\n",
      "Processing image \u001b[92m50\u001b[0m / 98555 : \u001b[92m0.1% | \u001b[0m\u001b[91m /root/atlas_root/home/cjcramer/lane_lines/Scripts/culane_dataset_lanenet/image/49.png  already exists, DO NOT WANT TO OVERWRITE IT SO SKIPPING \u001b[0m\n",
      "Processing image \u001b[92m51\u001b[0m / 98555 : \u001b[92m0.1% | \u001b[0m\u001b[91m /root/atlas_root/home/cjcramer/lane_lines/Scripts/culane_dataset_lanenet/image/50.png  already exists, DO NOT WANT TO OVERWRITE IT SO SKIPPING \u001b[0m\n",
      "Processing image \u001b[92m52\u001b[0m / 98555 : \u001b[92m0.1% | \u001b[0m\u001b[91m /root/atlas_root/home/cjcramer/lane_lines/Scripts/culane_dataset_lanenet/image/51.png  already exists, DO NOT WANT TO OVERWRITE IT SO SKIPPING \u001b[0m\n",
      "Processing image \u001b[92m53\u001b[0m / 98555 : \u001b[92m0.1% | \u001b[0m\u001b[91m /root/atlas_root/home/cjcramer/lane_lines/Scripts/culane_dataset_lanenet/image/52.png  already exists, DO NOT WANT TO OVERWRITE IT SO SKIPPING \u001b[0m\n",
      "Processing image \u001b[92m54\u001b[0m / 98555 : \u001b[92m0.1% | \u001b[0m\u001b[91m /root/atlas_root/home/cjcramer/lane_lines/Scripts/culane_dataset_lanenet/image/53.png  already exists, DO NOT WANT TO OVERWRITE IT SO SKIPPING \u001b[0m\n",
      "Processing image \u001b[92m55\u001b[0m / 98555 : \u001b[92m0.1% | \u001b[0m copied img | binary saved | annotation saved | "
     ]
    },
    {
     "data": {
      "image/png": "[encoded data removed]",
      "text/plain": [
       "<Figure size 1440x720 with 3 Axes>"
      ]
     },
     "metadata": {
      "needs_background": "light"
     },
     "output_type": "display_data"
    }
   ],
   "source": [
    "plt.rcParams[\"figure.figsize\"] = (20,10)\n",
    "#r_ind = 43456  # A random curvy section\n",
    "file_no = 0\n",
    "for CU_img_path, CU_annot_path, _, _, _, export_img_path, export_bin_path, export_inst_path in paths: \n",
    "    #filename_no_ext = CU_img_path.split(\"/\")[-1].split(\".\")[0]\n",
    "    file_no += 1\n",
    "    print(\"Processing image \", CMD_C.OKGREEN, file_no, CMD_C.ENDC, \" / \", len(paths), \" : \", sep=\"\", end=\"\")\n",
    "    print(CMD_C.OKGREEN,  \"{0:.1f}\".format(100 * file_no / len(paths)), \"% | \", CMD_C.ENDC, sep=\"\", end=\"\")\n",
    "    \n",
    "    # Copy the real image to the image/ folder\n",
    "    try:\n",
    "        # Check if image already exists, and we will overwrite it\n",
    "        if os.path.isfile(export_img_path) == True:\n",
    "            print(CMD_C.FAIL, export_img_path, \" already exists, DO NOT WANT TO OVERWRITE IT SO SKIPPING\", CMD_C.ENDC)\n",
    "            continue\n",
    "        img = cv2.imread(CU_img_path, cv2.IMREAD_COLOR)\n",
    "        save_success = cv2.imwrite(export_img_path, img)\n",
    "        if save_success == False:\n",
    "            print(CMD_C.FAIL, \"Could not copy file: \", culane_pict_path, CMD_C.ENDC, \" to \", CMD_C.FAIL, img_copy_dest, CMD_C.ENDC, sep=\"\", end=\"\")\n",
    "    except:\n",
    "        print(CMD_C.FAIL, \"Could not copy file: \", culane_pict_path, CMD_C.ENDC, \" to \", CMD_C.FAIL, img_copy_dest, CMD_C.ENDC, sep=\"\", end=\"\")\n",
    "    else:\n",
    "        print(\" copied img | \", sep=\"\", end=\"\")\n",
    "    \n",
    "    #IPython.embed() # to debug in notebook\n",
    "    #print(\"Exiting\")\n",
    "    #break\n",
    "    \n",
    "    # Read in the annotation image from CULane\n",
    "    try:\n",
    "        img = cv2.imread(CU_annot_path, cv2.IMREAD_GRAYSCALE)\n",
    "        # Convert it to all white\n",
    "        ret, white = cv2.threshold(img, 0, 255, cv2.THRESH_BINARY)\n",
    "        # Convert the 1,2,3,4 annotated pixels to 20 70 120 170 respectively\n",
    "        change_scale = img.copy()\n",
    "        change_to = {1:20, 2:70, 3:120, 4:170}\n",
    "        #print(change_scale)\n",
    "        for old, new in change_to.items():\n",
    "            change_scale[change_scale == old] = new\n",
    "            #change_scale[np.where((change_scale == [1]).all(axis = 0))] = [20]\n",
    "        #print(change_scale)\n",
    "        # Save those two images\n",
    "    except Exception as ex:\n",
    "        print(\"Error\", ex)\n",
    "    else:\n",
    "        pass\n",
    "    \n",
    "    # Save white\n",
    "    save_success = cv2.imwrite(export_bin_path, white)\n",
    "    if save_success:\n",
    "        print(\"binary saved | \", sep=\"\", end = \"\")\n",
    "    else:\n",
    "        print(CMD_C.FAIL, \"FAILED TO SAVE IMAGE\", CMD_C.ENDC, export_bin_path)\n",
    "    \n",
    "    # Save change_scale\n",
    "    save_success = cv2.imwrite(export_inst_path, change_scale)\n",
    "    if save_success:\n",
    "        print(\"annotation saved | \", sep=\"\", end = \"\")\n",
    "    else:\n",
    "        print(CMD_C.FAIL, \"FAILED TO SAVE IMAGE\", CMD_C.ENDC, export_inst_path)\n",
    "    \n",
    "    # Show result for first frame if display results\n",
    "    if display_results == True:\n",
    "        f, axs = plt.subplots(1, 3)\n",
    "        for _, ax in np.ndenumerate(axs):   # Remove axes\n",
    "            ax.axis('off')\n",
    "        axs[0].imshow(img)\n",
    "        axs[1].imshow(white)\n",
    "        axs[2].imshow(change_scale)\n",
    "        axs[0].set_title(\"Original (false color)\")\n",
    "        axs[1].set_title(\"Annotations all white\")\n",
    "        axs[2].set_title(\"Change Scale\")\n",
    "        plt.tight_layout()\n",
    "        plt.show()\n",
    "        break\n",
    "    print()"
   ]
  },
  {
   "cell_type": "code",
   "execution_count": 14,
   "metadata": {},
   "outputs": [
    {
     "name": "stdout",
     "output_type": "stream",
     "text": [
      "All done!\n"
     ]
    }
   ],
   "source": [
    "print(\"All done!\")"
   ]
  }
 ],
 "metadata": {
  "kernelspec": {
   "display_name": "Python 3",
   "language": "python",
   "name": "python3"
  },
  "language_info": {
   "codemirror_mode": {
    "name": "ipython",
    "version": 3
   },
   "file_extension": ".py",
   "mimetype": "text/x-python",
   "name": "python",
   "nbconvert_exporter": "python",
   "pygments_lexer": "ipython3",
   "version": "3.5.2"
  }
 },
 "nbformat": 4,
 "nbformat_minor": 2
}
