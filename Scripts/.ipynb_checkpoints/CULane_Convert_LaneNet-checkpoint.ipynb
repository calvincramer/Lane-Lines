{
 "cells": [
  {
   "cell_type": "code",
   "execution_count": null,
   "metadata": {},
   "outputs": [],
   "source": [
    "# usage: $python3 CULane_Convert_LaneNet.py\n",
    "# Will save converted CULANE into the same location that this script is run."
   ]
  },
  {
   "cell_type": "markdown",
   "metadata": {},
   "source": [
    "## Imports"
   ]
  },
  {
   "cell_type": "code",
   "execution_count": null,
   "metadata": {},
   "outputs": [],
   "source": [
    "from shutil import copy\n",
    "from shutil import copyfile\n",
    "import os\n",
    "import sys\n",
    "import cv2 as cv2\n",
    "import numpy as np\n",
    "import matplotlib.pyplot as plt\n",
    "from os import listdir\n",
    "from os.path import isfile, join\n",
    "from os import walk\n",
    "import IPython\n",
    "#IPython.embed() # to debug in notebook\n",
    "import random\n",
    "print(\"Successfully imported all\")"
   ]
  },
  {
   "cell_type": "markdown",
   "metadata": {},
   "source": [
    "## Constants and paths"
   ]
  },
  {
   "cell_type": "code",
   "execution_count": null,
   "metadata": {},
   "outputs": [],
   "source": [
    "export_folder_name = \"culane_dataset_lanenet/\"\n",
    "# CHANGE THIS TO THE LOCATION OF YOUR LANENET FOLDER\n",
    "base_export_dir = \"/root/root_dit_atlas/home/cjcramer/lane_lines/LaneNet/data/\" + export_folder_name\n",
    "# CHANGE THIS TO THE LOCATION OF YOUR CULANE DATASET\n",
    "data_base_dir = \"/root/atlas_root/teams/team-1/Datasets/CULane_Dataset/\"\n",
    "\n",
    "# Folders of annotations\n",
    "annotation_dir = data_base_dir + \"laneseg_label_w16/\"\n",
    "\n",
    "image_dir = base_export_dir + \"image/\"\n",
    "instance_dir = base_export_dir + \"gt_image_instance/\"\n",
    "binary_dir = base_export_dir + \"gt_image_binary/\"\n",
    "validation_path = base_export_dir + \"val.txt\"\n",
    "train_path = base_export_dir + \"train.txt\"\n",
    "\n",
    "print(\"Exporting to folder: \", export_folder_name, sep=\"\")\n",
    "\n",
    "# Take all images from annotation directory, get corresponding actual image from CULane,\n",
    "# convert the image into annotations with values 20, 70, 120, 170\n",
    "# convert the image to all white annotations"
   ]
  },
  {
   "cell_type": "markdown",
   "metadata": {},
   "source": [
    "## Convert notebook to python file"
   ]
  },
  {
   "cell_type": "code",
   "execution_count": null,
   "metadata": {},
   "outputs": [],
   "source": [
    "#!jupyter nbconvert --to script CULane_Remake.ipynb\n",
    "# Can use the command line argument instead:\n",
    "#$jupyter nbconvert --to script CULane_Remake.ipynb"
   ]
  },
  {
   "cell_type": "markdown",
   "metadata": {},
   "source": [
    "## Print pretty with colors"
   ]
  },
  {
   "cell_type": "code",
   "execution_count": null,
   "metadata": {},
   "outputs": [],
   "source": [
    "# Credit: https://stackoverflow.com/questions/287871/print-in-terminal-with-colors\n",
    "class CMD_C:\n",
    "    HEADER = '\\033[95m'\n",
    "    OKBLUE = '\\033[94m'\n",
    "    OKGREEN = '\\033[92m'\n",
    "    WARNING = '\\033[93m'\n",
    "    FAIL = '\\033[91m'\n",
    "    ENDC = '\\033[0m'   # End formatting\n",
    "    BOLD = '\\033[1m'\n",
    "    UNDERLINE = '\\033[4m'"
   ]
  },
  {
   "cell_type": "markdown",
   "metadata": {},
   "source": [
    "## Helper functions"
   ]
  },
  {
   "cell_type": "code",
   "execution_count": null,
   "metadata": {},
   "outputs": [],
   "source": [
    "def make_dir(dir_path):\n",
    "    if (os.path.exists(dir_path)):\n",
    "        print(dir_path, CMD_C.OKGREEN, \" already exists in the current working direcrectory: \", CMD_C.ENDC, cwd, sep=\"\")\n",
    "    else:\n",
    "        try:\n",
    "            os.mkdir(dir_path)\n",
    "        except OSError:\n",
    "            print(FAIL, \"Could not create destination folder: \", dir_path, ENDC)\n",
    "            return False\n",
    "        else:\n",
    "            print(\"Sucessfully made destination folder: \", dir_path)\n",
    "    return True"
   ]
  },
  {
   "cell_type": "markdown",
   "metadata": {},
   "source": [
    "### Parse Command Args, other setup\n"
   ]
  },
  {
   "cell_type": "code",
   "execution_count": null,
   "metadata": {},
   "outputs": [],
   "source": [
    "cwd = os.getcwd()\n",
    "print(\"CWD: \", cwd)"
   ]
  },
  {
   "cell_type": "markdown",
   "metadata": {},
   "source": [
    "# Gather all file paths"
   ]
  },
  {
   "cell_type": "code",
   "execution_count": null,
   "metadata": {},
   "outputs": [],
   "source": [
    "# Credit: https://www.mkyong.com/python/python-how-to-list-all-files-in-a-directory/\n",
    "annotation_paths = []\n",
    "for r, d, files in os.walk(annotation_dir):\n",
    "    for file in files:\n",
    "        annotation_paths.append(os.path.join(r, file))\n",
    "\n",
    "print(\"Number of annotations total: \", CMD_C.OKBLUE, len(annotation_paths), CMD_C.ENDC, sep=\"\")"
   ]
  },
  {
   "cell_type": "markdown",
   "metadata": {},
   "source": [
    "# Gather corresponding actual pictures "
   ]
  },
  {
   "cell_type": "code",
   "execution_count": null,
   "metadata": {},
   "outputs": [],
   "source": [
    "picture_annotation_list = []   # To actually read in the files from\n",
    "real_bin_white_paths = []      # To place in train.txt, val.txt\n",
    "\n",
    "for annot_path in annotation_paths:\n",
    "    tok = annot_path.split(\"/\")\n",
    "    filename = tok[-1]\n",
    "    filename_no_ext = filename.split(\".\")[0]\n",
    "    path = \"/\".join(tok[-3:-1])\n",
    "    path_to_file = data_base_dir + path + \"/\" + filename_no_ext + \".jpg\"\n",
    "    picture_annotation_list.append((path_to_file, annot_path))\n",
    "    \n",
    "    image_path_lanenet = image_dir + filename\n",
    "    binary_path_lanenet = binary_dir + filename\n",
    "    instance_path_lanenet = instance_dir + filename\n",
    "    real_bin_white_paths.append((image_path_lanenet, binary_path_lanenet, instance_path_lanenet))\n",
    "    \n",
    "for i in range(0, 2):\n",
    "    print(picture_annotation_list[i])    \n",
    "print()\n",
    "for i in range(0, 2):\n",
    "    print(real_bin_white_paths[i])"
   ]
  },
  {
   "cell_type": "markdown",
   "metadata": {},
   "source": [
    "# Make destination folder to save all outputs to"
   ]
  },
  {
   "cell_type": "code",
   "execution_count": null,
   "metadata": {},
   "outputs": [],
   "source": [
    "folders_to_create = [export_folder_name, export_folder_name + \"image/\", export_folder_name + \"gt_image_instance/\", export_folder_name + \"gt_image_binary/\"]\n",
    "for folder in folders_to_create:\n",
    "    if make_dir(folder) == False:\n",
    "        print(CMD_C.FAIL, \"COULD NOT CREATE THE FOLDER: \", folder, CMD_C.ENDC, sep=\"\")"
   ]
  },
  {
   "cell_type": "markdown",
   "metadata": {},
   "source": [
    "## Main loop"
   ]
  },
  {
   "cell_type": "code",
   "execution_count": null,
   "metadata": {},
   "outputs": [],
   "source": [
    "plt.rcParams[\"figure.figsize\"] = (20,10)\n",
    "r_ind = 43456  # A random curvy section\n",
    "\n",
    "for i in range(len(picture_annotation_list)):\n",
    "    culane_pict_path = picture_annotation_list[i][0]\n",
    "    culane_anot_path = picture_annotation_list[i][1]\n",
    "    img_path, bin_path, inst_path = real_bin_white_paths[i]\n",
    "    \n",
    "    print(\"Processing image \", CMD_C.OKGREEN, i, CMD_C.ENDC, \" / \", len(picture_annotation_list), \" : \", sep=\"\", end=\"\")\n",
    "    print(CMD_C.OKGREEN,  \"{0:.1f}\".format(i / len(picture_annotation_list)), \"% : \", CMD_C.ENDC, sep=\"\", end=\"\")\n",
    "    \n",
    "    # Copy the real image to the image/ folder\n",
    "    \n",
    "    # Read in the annotation image from CULane\n",
    "    \n",
    "    # Convert it to all white\n",
    "    \n",
    "    # Convert the 1,2,3,4 annotated pixels to 20 70 120 170 respectively\n",
    "    \n",
    "    # Save those two images\n",
    "    \n",
    "    \n",
    "    # Read image\n",
    "    #img = cv2.imread(annotation_path, cv2.IMREAD_GRAYSCALE)\n",
    "    #print(\"read \", sep=\"\", end=\"\")\n",
    "    #remade_img = np.zeros(img.shape, img.dtype)  # Should be 1640x590, uint8\n",
    "    #print(\"processed \", sep=\"\", end=\"\")\n",
    "    \n",
    "    # Save new image (as PNG)\n",
    "    #save_success = cv2.imwrite(save_to_path, remade_img)\n",
    "    #if save_success:\n",
    "    #    print(\"saved to \", save_to_path, sep=\"\")\n",
    "    #else:\n",
    "    #    print(CMD_C.FAIL, \"FAILED TO SAVE IMAGE\", CMD_C.ENDC, save_to_path, annotation_path)\n",
    "    \n",
    "    # Show result for first frame if display results\n",
    "    if display_results == True:\n",
    "        #f, axs = plt.subplots(2, 3)\n",
    "        #for _, ax in np.ndenumerate(axs):   # Remove axes\n",
    "        #    ax.axis('off')\n",
    "        #axs[0][0].imshow(img)\n",
    "        #axs[0][1].imshow(img_1)\n",
    "        #axs[0][2].imshow(img_2)\n",
    "        #axs[1][0].imshow(img_3)\n",
    "        #axs[1][1].imshow(img_4)\n",
    "        #axs[1][2].imshow(remade_img)\n",
    "        #axs[0][0].set_title(\"Original\")\n",
    "        #axs[1][2].set_title(\"Remade\")\n",
    "        #plt.tight_layout()\n",
    "        #plt.show()\n",
    "        #break"
   ]
  },
  {
   "cell_type": "code",
   "execution_count": null,
   "metadata": {},
   "outputs": [],
   "source": [
    "print(\"All done!\")"
   ]
  }
 ],
 "metadata": {
  "kernelspec": {
   "display_name": "Python 3",
   "language": "python",
   "name": "python3"
  },
  "language_info": {
   "codemirror_mode": {
    "name": "ipython",
    "version": 3
   },
   "file_extension": ".py",
   "mimetype": "text/x-python",
   "name": "python",
   "nbconvert_exporter": "python",
   "pygments_lexer": "ipython3",
   "version": "3.5.2"
  }
 },
 "nbformat": 4,
 "nbformat_minor": 2
}
