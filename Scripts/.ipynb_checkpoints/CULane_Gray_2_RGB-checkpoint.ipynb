{
 "cells": [
  {
   "cell_type": "code",
   "execution_count": 1,
   "metadata": {},
   "outputs": [],
   "source": [
    "# usage: $python3 CULane_Remake.py [--no-vis]\n",
    "# [--no-vis] for not showing frame, stopping after each frame"
   ]
  },
  {
   "cell_type": "markdown",
   "metadata": {},
   "source": [
    "## Imports"
   ]
  },
  {
   "cell_type": "code",
   "execution_count": 2,
   "metadata": {},
   "outputs": [
    {
     "name": "stdout",
     "output_type": "stream",
     "text": [
      "Successfully imported all\n"
     ]
    }
   ],
   "source": [
    "#from shutil import copy\n",
    "#from shutil import copyfile\n",
    "import os\n",
    "import sys\n",
    "import cv2 as cv2\n",
    "import numpy as np\n",
    "import matplotlib.pyplot as plt\n",
    "from os import listdir\n",
    "from os.path import isfile, join\n",
    "from os import walk\n",
    "#import IPython\n",
    "#IPython.embed() # to debug in notebook\n",
    "#import random\n",
    "print(\"Successfully imported all\")"
   ]
  },
  {
   "cell_type": "markdown",
   "metadata": {},
   "source": [
    "## Convert notebook to python file"
   ]
  },
  {
   "cell_type": "code",
   "execution_count": 3,
   "metadata": {},
   "outputs": [],
   "source": [
    "#!jupyter nbconvert --to script CULane_Remake.ipynb\n",
    "# Can use the command line argument instead:\n",
    "#$jupyter nbconvert --to script CULane_Remake.ipynb"
   ]
  },
  {
   "cell_type": "markdown",
   "metadata": {},
   "source": [
    "## Print pretty with colors"
   ]
  },
  {
   "cell_type": "code",
   "execution_count": 4,
   "metadata": {},
   "outputs": [],
   "source": [
    "# Credit: https://stackoverflow.com/questions/287871/print-in-terminal-with-colors\n",
    "class CMD_C:\n",
    "    HEADER = '\\033[95m'\n",
    "    OKBLUE = '\\033[94m'\n",
    "    OKGREEN = '\\033[92m'\n",
    "    WARNING = '\\033[93m'\n",
    "    FAIL = '\\033[91m'\n",
    "    ENDC = '\\033[0m'   # End formatting\n",
    "    BOLD = '\\033[1m'\n",
    "    UNDERLINE = '\\033[4m'"
   ]
  },
  {
   "cell_type": "markdown",
   "metadata": {},
   "source": [
    "## Helper functions"
   ]
  },
  {
   "cell_type": "markdown",
   "metadata": {},
   "source": [
    "### Parse Command Args, other setup\n"
   ]
  },
  {
   "cell_type": "code",
   "execution_count": 5,
   "metadata": {},
   "outputs": [
    {
     "name": "stdout",
     "output_type": "stream",
     "text": [
      "Display results? =  True\n"
     ]
    }
   ],
   "source": [
    "display_results = False if sys.argv[-1] == \"--no-vis\" else True\n",
    "print(\"Display results? = \", display_results)"
   ]
  },
  {
   "cell_type": "code",
   "execution_count": 6,
   "metadata": {},
   "outputs": [
    {
     "name": "stdout",
     "output_type": "stream",
     "text": [
      "CWD:  /root/atlas_root/home/cjcramer/lane_lines/Scripts\n"
     ]
    }
   ],
   "source": [
    "cwd = os.getcwd()\n",
    "print(\"CWD: \", cwd)"
   ]
  },
  {
   "cell_type": "markdown",
   "metadata": {},
   "source": [
    "## Gather all images in the folders"
   ]
  },
  {
   "cell_type": "code",
   "execution_count": 7,
   "metadata": {},
   "outputs": [
    {
     "name": "stdout",
     "output_type": "stream",
     "text": [
      "Number of annotations total: \u001b[94m98877\u001b[0m\n"
     ]
    }
   ],
   "source": [
    "# Folders of annotations\n",
    "folder_dir = \"/root/atlas_root/teams/team-1/Datasets/CULane_Dataset_RGB/laneseg_label_w16/\"\n",
    "annotation_paths = []\n",
    "# Credit: https://www.mkyong.com/python/python-how-to-list-all-files-in-a-directory/\n",
    "for r, d, files in os.walk(folder_dir):\n",
    "    for file in files:\n",
    "        annotation_paths.append(os.path.join(r, file))\n",
    "\n",
    "print(\"Number of annotations total: \", CMD_C.OKBLUE, len(annotation_paths), CMD_C.ENDC, sep=\"\")"
   ]
  },
  {
   "cell_type": "markdown",
   "metadata": {},
   "source": [
    "## Main loop"
   ]
  },
  {
   "cell_type": "code",
   "execution_count": 12,
   "metadata": {},
   "outputs": [
    {
     "name": "stdout",
     "output_type": "stream",
     "text": [
      "Processing image \u001b[92m0\u001b[0m / 98877 : read before:  [[0 0 0 ... 0 0 0]\n",
      " [0 0 0 ... 0 0 0]\n",
      " [0 0 0 ... 0 0 0]\n",
      " ...\n",
      " [0 0 0 ... 4 4 4]\n",
      " [0 0 0 ... 4 4 4]\n",
      " [0 0 0 ... 0 0 0]]\n",
      "after:  [[5 5 5 ... 5 5 5]\n",
      " [5 5 5 ... 5 5 5]\n",
      " [5 5 5 ... 5 5 5]\n",
      " ...\n",
      " [5 5 5 ... 4 4 4]\n",
      " [5 5 5 ... 4 4 4]\n",
      " [5 5 5 ... 5 5 5]]\n"
     ]
    }
   ],
   "source": [
    "r_ind = 43456  # A random curvy section\n",
    "\n",
    "for i, annotation_path in enumerate(annotation_paths):\n",
    "    print(\"Processing image \", CMD_C.OKGREEN, i, CMD_C.ENDC, \" / \", len(annotation_paths), \" : \", sep=\"\", end=\"\")\n",
    "\n",
    "    # Read image\n",
    "    img = cv2.imread(annotation_path, cv2.IMREAD_GRAYSCALE)\n",
    "    print(\"read \", sep=\"\", end=\"\")\n",
    "\n",
    "    # Convert black pixels to grayscale of 5\n",
    "    img[img == 0] = 5\n",
    "    \n",
    "    # Save new image (as PNG)\n",
    "    save_success = cv2.imwrite(annotation_path, cv2.cvtColor(img, cv2.COLOR_GRAY2RGB))\n",
    "    if save_success:\n",
    "        print(\"saved to \", annotation_path, sep=\"\")    # Replace old image\n",
    "    else:\n",
    "        print(CMD_C.FAIL, \"FAILED TO SAVE IMAGE\", CMD_C.ENDC, annotation_path)\n",
    "        break"
   ]
  },
  {
   "cell_type": "code",
   "execution_count": null,
   "metadata": {},
   "outputs": [],
   "source": [
    "print(\"All done!\")"
   ]
  }
 ],
 "metadata": {
  "kernelspec": {
   "display_name": "Python 3",
   "language": "python",
   "name": "python3"
  },
  "language_info": {
   "codemirror_mode": {
    "name": "ipython",
    "version": 3
   },
   "file_extension": ".py",
   "mimetype": "text/x-python",
   "name": "python",
   "nbconvert_exporter": "python",
   "pygments_lexer": "ipython3",
   "version": "3.5.2"
  }
 },
 "nbformat": 4,
 "nbformat_minor": 2
}
