{
 "cells": [
  {
   "cell_type": "code",
   "execution_count": 4,
   "metadata": {},
   "outputs": [],
   "source": [
    "# usage: $python3 CULane_Remake.py [--no-vis]\n",
    "# [--no-vis] for not showing frame, stopping after each frame"
   ]
  },
  {
   "cell_type": "markdown",
   "metadata": {},
   "source": [
    "## Imports"
   ]
  },
  {
   "cell_type": "code",
   "execution_count": 5,
   "metadata": {},
   "outputs": [
    {
     "name": "stdout",
     "output_type": "stream",
     "text": [
      "Successfully imported all\n"
     ]
    }
   ],
   "source": [
    "#from shutil import copy\n",
    "#from shutil import copyfile\n",
    "import os\n",
    "import sys\n",
    "import cv2 as cv2\n",
    "import numpy as np\n",
    "import matplotlib.pyplot as plt\n",
    "from os import listdir\n",
    "from os.path import isfile, join\n",
    "from os import walk\n",
    "#import IPython\n",
    "#IPython.embed() # to debug in notebook\n",
    "#import random\n",
    "print(\"Successfully imported all\")"
   ]
  },
  {
   "cell_type": "markdown",
   "metadata": {},
   "source": [
    "## Convert notebook to python file"
   ]
  },
  {
   "cell_type": "code",
   "execution_count": 6,
   "metadata": {},
   "outputs": [],
   "source": [
    "#!jupyter nbconvert --to script CULane_Remake.ipynb\n",
    "# Can use the command line argument instead:\n",
    "#$jupyter nbconvert --to script CULane_Remake.ipynb"
   ]
  },
  {
   "cell_type": "markdown",
   "metadata": {},
   "source": [
    "## Print pretty with colors"
   ]
  },
  {
   "cell_type": "code",
   "execution_count": 7,
   "metadata": {},
   "outputs": [],
   "source": [
    "# Credit: https://stackoverflow.com/questions/287871/print-in-terminal-with-colors\n",
    "class CMD_C:\n",
    "    HEADER = '\\033[95m'\n",
    "    OKBLUE = '\\033[94m'\n",
    "    OKGREEN = '\\033[92m'\n",
    "    WARNING = '\\033[93m'\n",
    "    FAIL = '\\033[91m'\n",
    "    ENDC = '\\033[0m'   # End formatting\n",
    "    BOLD = '\\033[1m'\n",
    "    UNDERLINE = '\\033[4m'"
   ]
  },
  {
   "cell_type": "markdown",
   "metadata": {},
   "source": [
    "## Helper functions"
   ]
  },
  {
   "cell_type": "markdown",
   "metadata": {},
   "source": [
    "### Parse Command Args, other setup\n"
   ]
  },
  {
   "cell_type": "code",
   "execution_count": 8,
   "metadata": {},
   "outputs": [
    {
     "name": "stdout",
     "output_type": "stream",
     "text": [
      "Display results? =  True\n"
     ]
    }
   ],
   "source": [
    "display_results = False if sys.argv[-1] == \"--no-vis\" else True\n",
    "print(\"Display results? = \", display_results)"
   ]
  },
  {
   "cell_type": "code",
   "execution_count": 9,
   "metadata": {},
   "outputs": [
    {
     "name": "stdout",
     "output_type": "stream",
     "text": [
      "CWD:  /root/atlas_root/home/cjcramer/lane_lines/Scripts\n"
     ]
    }
   ],
   "source": [
    "cwd = os.getcwd()\n",
    "print(\"CWD: \", cwd)"
   ]
  },
  {
   "cell_type": "markdown",
   "metadata": {},
   "source": [
    "## Gather all images in the folders"
   ]
  },
  {
   "cell_type": "code",
   "execution_count": 15,
   "metadata": {},
   "outputs": [
    {
     "name": "stdout",
     "output_type": "stream",
     "text": [
      "Number of annotations total: \u001b[94m133235\u001b[0m\n",
      "/root/atlas_root/teams/team-1/Datasets/CULane_Dataset_RGB/driver_100_30frame/05252325_0554.MP4/04380.jpg\n",
      "/root/atlas_root/teams/team-1/Datasets/CULane_Dataset_RGB/driver_100_30frame/05252325_0554.MP4/05250.jpg\n",
      "/root/atlas_root/teams/team-1/Datasets/CULane_Dataset_RGB/driver_100_30frame/05252325_0554.MP4/01020.jpg\n"
     ]
    }
   ],
   "source": [
    "# Folders of annotations\n",
    "root_dir = \"/root/atlas_root/teams/team-1/Datasets/CULane_Dataset_RGB/\"\n",
    "img_folders = [\"driver_100_30frame/\", \"driver_161_90frame/\", \"driver_182_30frame/\", \"driver_193_90frame/\", \"driver_23_30frame/\", \"driver_37_30frame/\"]\n",
    "folders = [root_dir + f for f in img_folders]\n",
    "annotation_paths = []\n",
    "# Credit: https://www.mkyong.com/python/python-how-to-list-all-files-in-a-directory/\n",
    "for folder in folders:\n",
    "    for r, d, files in os.walk(folder):\n",
    "        for file in files:\n",
    "            file_path = os.path.join(r, file)\n",
    "            if file_path.split(\"/\")[-1].split(\".\")[-1] == \"jpg\":\n",
    "                annotation_paths.append(file_path)\n",
    "\n",
    "print(\"Number of annotations total: \", CMD_C.OKBLUE, len(annotation_paths), CMD_C.ENDC, sep=\"\")\n",
    "for i in range(0,3):\n",
    "    print(annotation_paths[i])"
   ]
  },
  {
   "cell_type": "markdown",
   "metadata": {},
   "source": [
    "## Main loop"
   ]
  },
  {
   "cell_type": "code",
   "execution_count": 34,
   "metadata": {},
   "outputs": [
    {
     "name": "stdout",
     "output_type": "stream",
     "text": [
      "Processing image \u001b[92m0\u001b[0m / 133235 : read \n",
      "Processing image \u001b[92m1\u001b[0m / 133235 : read \n",
      "Processing image \u001b[92m2\u001b[0m / 133235 : read \n",
      "Processing image \u001b[92m3\u001b[0m / 133235 : read \n",
      "Processing image \u001b[92m4\u001b[0m / 133235 : read \n",
      "Processing image \u001b[92m5\u001b[0m / 133235 : read \n",
      "Processing image \u001b[92m6\u001b[0m / 133235 : read \n",
      "Processing image \u001b[92m7\u001b[0m / 133235 : read \n",
      "Processing image \u001b[92m8\u001b[0m / 133235 : read \n",
      "Processing image \u001b[92m9\u001b[0m / 133235 : read \n",
      "Processing image \u001b[92m10\u001b[0m / 133235 : read \n",
      "Processing image \u001b[92m11\u001b[0m / 133235 : read \n",
      "Processing image \u001b[92m12\u001b[0m / 133235 : read \n",
      "Processing image \u001b[92m13\u001b[0m / 133235 : read \n",
      "Processing image \u001b[92m14\u001b[0m / 133235 : read \n",
      "Processing image \u001b[92m15\u001b[0m / 133235 : read \n",
      "Processing image \u001b[92m16\u001b[0m / 133235 : read \n",
      "Processing image \u001b[92m17\u001b[0m / 133235 : read \n",
      "Processing image \u001b[92m18\u001b[0m / 133235 : read \n",
      "Processing image \u001b[92m19\u001b[0m / 133235 : read \n",
      "Processing image \u001b[92m20\u001b[0m / 133235 : read \n",
      "Processing image \u001b[92m21\u001b[0m / 133235 : read \n",
      "Processing image \u001b[92m22\u001b[0m / 133235 : read \n",
      "Processing image \u001b[92m23\u001b[0m / 133235 : read \n",
      "Processing image \u001b[92m24\u001b[0m / 133235 : read \n",
      "Processing image \u001b[92m25\u001b[0m / 133235 : read \n",
      "Processing image \u001b[92m26\u001b[0m / 133235 : read \n",
      "Processing image \u001b[92m27\u001b[0m / 133235 : read \n",
      "Processing image \u001b[92m28\u001b[0m / 133235 : read \n",
      "Processing image \u001b[92m29\u001b[0m / 133235 : read \n",
      "Processing image \u001b[92m30\u001b[0m / 133235 : read \n",
      "Processing image \u001b[92m31\u001b[0m / 133235 : read \n",
      "Processing image \u001b[92m32\u001b[0m / 133235 : read \n",
      "Processing image \u001b[92m33\u001b[0m / 133235 : read \n",
      "Processing image \u001b[92m34\u001b[0m / 133235 : read \n",
      "Processing image \u001b[92m35\u001b[0m / 133235 : read \n",
      "Processing image \u001b[92m36\u001b[0m / 133235 : read \n",
      "Processing image \u001b[92m37\u001b[0m / 133235 : read \n",
      "Processing image \u001b[92m38\u001b[0m / 133235 : read \n",
      "Processing image \u001b[92m39\u001b[0m / 133235 : read \n",
      "Processing image \u001b[92m40\u001b[0m / 133235 : read \n",
      "Processing image \u001b[92m41\u001b[0m / 133235 : read \n",
      "Processing image \u001b[92m42\u001b[0m / 133235 : read \n",
      "Processing image \u001b[92m43\u001b[0m / 133235 : read \n",
      "Processing image \u001b[92m44\u001b[0m / 133235 : read \n",
      "Processing image \u001b[92m45\u001b[0m / 133235 : read \n",
      "Processing image \u001b[92m46\u001b[0m / 133235 : read \n",
      "Processing image \u001b[92m47\u001b[0m / 133235 : read \n",
      "Processing image \u001b[92m48\u001b[0m / 133235 : read \n",
      "Processing image \u001b[92m49\u001b[0m / 133235 : read \n",
      "Processing image \u001b[92m50\u001b[0m / 133235 : read \n",
      "Processing image \u001b[92m51\u001b[0m / 133235 : read \n",
      "Processing image \u001b[92m52\u001b[0m / 133235 : read \n",
      "Processing image \u001b[92m53\u001b[0m / 133235 : read \n",
      "Processing image \u001b[92m54\u001b[0m / 133235 : read \n",
      "Processing image \u001b[92m55\u001b[0m / 133235 : read \n",
      "Processing image \u001b[92m56\u001b[0m / 133235 : read \n",
      "Processing image \u001b[92m57\u001b[0m / 133235 : read \n",
      "Processing image \u001b[92m58\u001b[0m / 133235 : read \n",
      "Processing image \u001b[92m59\u001b[0m / 133235 : read \n",
      "Processing image \u001b[92m60\u001b[0m / 133235 : read \n",
      "Processing image \u001b[92m61\u001b[0m / 133235 : read \n",
      "Processing image \u001b[92m62\u001b[0m / 133235 : read \n",
      "Processing image \u001b[92m63\u001b[0m / 133235 : read \n",
      "Processing image \u001b[92m64\u001b[0m / 133235 : read \n",
      "Processing image \u001b[92m65\u001b[0m / 133235 : read \n",
      "Processing image \u001b[92m66\u001b[0m / 133235 : read \n",
      "Processing image \u001b[92m67\u001b[0m / 133235 : read \n",
      "Processing image \u001b[92m68\u001b[0m / 133235 : read \n",
      "Processing image \u001b[92m69\u001b[0m / 133235 : read \n",
      "Processing image \u001b[92m70\u001b[0m / 133235 : read \n",
      "Processing image \u001b[92m71\u001b[0m / 133235 : read \n",
      "Processing image \u001b[92m72\u001b[0m / 133235 : read \n",
      "Processing image \u001b[92m73\u001b[0m / 133235 : read \n",
      "Processing image \u001b[92m74\u001b[0m / 133235 : read \n",
      "Processing image \u001b[92m75\u001b[0m / 133235 : read \n",
      "Processing image \u001b[92m76\u001b[0m / 133235 : read \n",
      "Processing image \u001b[92m77\u001b[0m / 133235 : read \n",
      "Processing image \u001b[92m78\u001b[0m / 133235 : read \n",
      "Processing image \u001b[92m79\u001b[0m / 133235 : read \n",
      "Processing image \u001b[92m80\u001b[0m / 133235 : read \n",
      "Processing image \u001b[92m81\u001b[0m / 133235 : read \n",
      "Processing image \u001b[92m82\u001b[0m / 133235 : read \n",
      "Processing image \u001b[92m83\u001b[0m / 133235 : read \n",
      "Processing image \u001b[92m84\u001b[0m / 133235 : read \n",
      "Processing image \u001b[92m85\u001b[0m / 133235 : read \n",
      "Processing image \u001b[92m86\u001b[0m / 133235 : read \n",
      "Processing image \u001b[92m87\u001b[0m / 133235 : read \n",
      "Processing image \u001b[92m88\u001b[0m / 133235 : read \n",
      "Processing image \u001b[92m89\u001b[0m / 133235 : read \n",
      "Processing image \u001b[92m90\u001b[0m / 133235 : read \n",
      "Processing image \u001b[92m91\u001b[0m / 133235 : read \n",
      "Processing image \u001b[92m92\u001b[0m / 133235 : read \n",
      "Processing image \u001b[92m93\u001b[0m / 133235 : read \n",
      "Processing image \u001b[92m94\u001b[0m / 133235 : read \n",
      "Processing image \u001b[92m95\u001b[0m / 133235 : read \n",
      "Processing image \u001b[92m96\u001b[0m / 133235 : read \n",
      "Processing image \u001b[92m97\u001b[0m / 133235 : read \n",
      "Processing image \u001b[92m98\u001b[0m / 133235 : read \n",
      "Processing image \u001b[92m99\u001b[0m / 133235 : read \n",
      "Processing image \u001b[92m100\u001b[0m / 133235 : read \n",
      "Processing image \u001b[92m101\u001b[0m / 133235 : read \n",
      "Processing image \u001b[92m102\u001b[0m / 133235 : read \n",
      "Processing image \u001b[92m103\u001b[0m / 133235 : read \n",
      "Processing image \u001b[92m104\u001b[0m / 133235 : read \n",
      "Processing image \u001b[92m105\u001b[0m / 133235 : read \n",
      "Processing image \u001b[92m106\u001b[0m / 133235 : read \n",
      "Processing image \u001b[92m107\u001b[0m / 133235 : read \n",
      "Processing image \u001b[92m108\u001b[0m / 133235 : read \n",
      "Processing image \u001b[92m109\u001b[0m / 133235 : read \n",
      "Processing image \u001b[92m110\u001b[0m / 133235 : read \n",
      "Processing image \u001b[92m111\u001b[0m / 133235 : read \n",
      "Processing image \u001b[92m112\u001b[0m / 133235 : read \n",
      "Processing image \u001b[92m113\u001b[0m / 133235 : read \n",
      "Processing image \u001b[92m114\u001b[0m / 133235 : read \n",
      "Processing image \u001b[92m115\u001b[0m / 133235 : read \n",
      "Processing image \u001b[92m116\u001b[0m / 133235 : read \n",
      "Processing image \u001b[92m117\u001b[0m / 133235 : read \n",
      "Processing image \u001b[92m118\u001b[0m / 133235 : read \n",
      "Processing image \u001b[92m119\u001b[0m / 133235 : read \n",
      "Processing image \u001b[92m120\u001b[0m / 133235 : read \n",
      "Processing image \u001b[92m121\u001b[0m / 133235 : read \n",
      "Processing image \u001b[92m122\u001b[0m / 133235 : read \n",
      "Processing image \u001b[92m123\u001b[0m / 133235 : read \n",
      "Processing image \u001b[92m124\u001b[0m / 133235 : read \n",
      "Processing image \u001b[92m125\u001b[0m / 133235 : read \n",
      "Processing image \u001b[92m126\u001b[0m / 133235 : read \n",
      "Processing image \u001b[92m127\u001b[0m / 133235 : read \n",
      "Processing image \u001b[92m128\u001b[0m / 133235 : read \n",
      "Processing image \u001b[92m129\u001b[0m / 133235 : read \n",
      "Processing image \u001b[92m130\u001b[0m / 133235 : read \n",
      "Processing image \u001b[92m131\u001b[0m / 133235 : read \n",
      "Processing image \u001b[92m132\u001b[0m / 133235 : read \n",
      "Processing image \u001b[92m133\u001b[0m / 133235 : read \n",
      "Processing image \u001b[92m134\u001b[0m / 133235 : read \n",
      "Processing image \u001b[92m135\u001b[0m / 133235 : read \n",
      "Processing image \u001b[92m136\u001b[0m / 133235 : read \n",
      "Processing image \u001b[92m137\u001b[0m / 133235 : read \n",
      "Processing image \u001b[92m138\u001b[0m / 133235 : read \n",
      "Processing image \u001b[92m139\u001b[0m / 133235 : read \n",
      "Processing image \u001b[92m140\u001b[0m / 133235 : read \n",
      "Processing image \u001b[92m141\u001b[0m / 133235 : read \n",
      "Processing image \u001b[92m142\u001b[0m / 133235 : read \n",
      "Processing image \u001b[92m143\u001b[0m / 133235 : read \n",
      "Processing image \u001b[92m144\u001b[0m / 133235 : read \n",
      "Processing image \u001b[92m145\u001b[0m / 133235 : read \n",
      "Processing image \u001b[92m146\u001b[0m / 133235 : read \n",
      "Processing image \u001b[92m147\u001b[0m / 133235 : read \n",
      "Processing image \u001b[92m148\u001b[0m / 133235 : read \n",
      "Processing image \u001b[92m149\u001b[0m / 133235 : read \n",
      "Processing image \u001b[92m150\u001b[0m / 133235 : read \n",
      "Processing image \u001b[92m151\u001b[0m / 133235 : read \n",
      "Processing image \u001b[92m152\u001b[0m / 133235 : read \n",
      "Processing image \u001b[92m153\u001b[0m / 133235 : read \n",
      "Processing image \u001b[92m154\u001b[0m / 133235 : read \n",
      "Processing image \u001b[92m155\u001b[0m / 133235 : read \n",
      "Processing image \u001b[92m156\u001b[0m / 133235 : read \n",
      "Processing image \u001b[92m157\u001b[0m / 133235 : read \n",
      "Processing image \u001b[92m158\u001b[0m / 133235 : read \n",
      "Processing image \u001b[92m159\u001b[0m / 133235 : read \n",
      "Processing image \u001b[92m160\u001b[0m / 133235 : read \n",
      "Processing image \u001b[92m161\u001b[0m / 133235 : read \n",
      "Processing image \u001b[92m162\u001b[0m / 133235 : read \n",
      "Processing image \u001b[92m163\u001b[0m / 133235 : read \n",
      "Processing image \u001b[92m164\u001b[0m / 133235 : read \n",
      "Processing image \u001b[92m165\u001b[0m / 133235 : read \n",
      "Processing image \u001b[92m166\u001b[0m / 133235 : read \n",
      "Processing image \u001b[92m167\u001b[0m / 133235 : read \n",
      "Processing image \u001b[92m168\u001b[0m / 133235 : read \n",
      "Processing image \u001b[92m169\u001b[0m / 133235 : read \n",
      "Processing image \u001b[92m170\u001b[0m / 133235 : read \n",
      "Processing image \u001b[92m171\u001b[0m / 133235 : read \n",
      "Processing image \u001b[92m172\u001b[0m / 133235 : read \n",
      "Processing image \u001b[92m173\u001b[0m / 133235 : read \n",
      "Processing image \u001b[92m174\u001b[0m / 133235 : read \n",
      "Processing image \u001b[92m175\u001b[0m / 133235 : read \n",
      "Processing image \u001b[92m176\u001b[0m / 133235 : read \n",
      "Processing image \u001b[92m177\u001b[0m / 133235 : read \n"
     ]
    },
    {
     "name": "stdout",
     "output_type": "stream",
     "text": [
      "Processing image \u001b[92m178\u001b[0m / 133235 : read \n",
      "Processing image \u001b[92m179\u001b[0m / 133235 : read \n",
      "Processing image \u001b[92m180\u001b[0m / 133235 : read \n",
      "Processing image \u001b[92m181\u001b[0m / 133235 : read \n",
      "Processing image \u001b[92m182\u001b[0m / 133235 : read \n",
      "Processing image \u001b[92m183\u001b[0m / 133235 : read \n",
      "Processing image \u001b[92m184\u001b[0m / 133235 : read \n",
      "Processing image \u001b[92m185\u001b[0m / 133235 : read \n",
      "Processing image \u001b[92m186\u001b[0m / 133235 : read \n",
      "Processing image \u001b[92m187\u001b[0m / 133235 : read \n",
      "Processing image \u001b[92m188\u001b[0m / 133235 : read \n",
      "Processing image \u001b[92m189\u001b[0m / 133235 : read \n",
      "Processing image \u001b[92m190\u001b[0m / 133235 : read \n",
      "Processing image \u001b[92m191\u001b[0m / 133235 : read \n",
      "Processing image \u001b[92m192\u001b[0m / 133235 : read \n",
      "Processing image \u001b[92m193\u001b[0m / 133235 : read \n",
      "Processing image \u001b[92m194\u001b[0m / 133235 : read \n",
      "Processing image \u001b[92m195\u001b[0m / 133235 : read \n",
      "Processing image \u001b[92m196\u001b[0m / 133235 : read \n",
      "Processing image \u001b[92m197\u001b[0m / 133235 : read \n",
      "Processing image \u001b[92m198\u001b[0m / 133235 : read \n",
      "Processing image \u001b[92m199\u001b[0m / 133235 : read \n",
      "Processing image \u001b[92m200\u001b[0m / 133235 : read \n",
      "Processing image \u001b[92m201\u001b[0m / 133235 : read \n",
      "Processing image \u001b[92m202\u001b[0m / 133235 : read \n",
      "Processing image \u001b[92m203\u001b[0m / 133235 : read \n",
      "Processing image \u001b[92m204\u001b[0m / 133235 : read \n",
      "Processing image \u001b[92m205\u001b[0m / 133235 : read \n",
      "Processing image \u001b[92m206\u001b[0m / 133235 : read \n",
      "Processing image \u001b[92m207\u001b[0m / 133235 : read \n",
      "Processing image \u001b[92m208\u001b[0m / 133235 : "
     ]
    },
    {
     "ename": "KeyboardInterrupt",
     "evalue": "",
     "output_type": "error",
     "traceback": [
      "\u001b[0;31m---------------------------------------------------------------------------\u001b[0m",
      "\u001b[0;31mKeyboardInterrupt\u001b[0m                         Traceback (most recent call last)",
      "\u001b[0;32m<ipython-input-34-c795c0a9bb3b>\u001b[0m in \u001b[0;36m<module>\u001b[0;34m\u001b[0m\n\u001b[1;32m     11\u001b[0m \u001b[0;34m\u001b[0m\u001b[0m\n\u001b[1;32m     12\u001b[0m     \u001b[0;31m# Read image\u001b[0m\u001b[0;34m\u001b[0m\u001b[0;34m\u001b[0m\u001b[0m\n\u001b[0;32m---> 13\u001b[0;31m     \u001b[0mimg\u001b[0m \u001b[0;34m=\u001b[0m \u001b[0mcv2\u001b[0m\u001b[0;34m.\u001b[0m\u001b[0mimread\u001b[0m\u001b[0;34m(\u001b[0m\u001b[0mannotation_path\u001b[0m\u001b[0;34m,\u001b[0m \u001b[0mcv2\u001b[0m\u001b[0;34m.\u001b[0m\u001b[0mIMREAD_COLOR\u001b[0m\u001b[0;34m)\u001b[0m\u001b[0;34m\u001b[0m\u001b[0m\n\u001b[0m\u001b[1;32m     14\u001b[0m     \u001b[0mprint\u001b[0m\u001b[0;34m(\u001b[0m\u001b[0;34m\"read \"\u001b[0m\u001b[0;34m,\u001b[0m \u001b[0msep\u001b[0m\u001b[0;34m=\u001b[0m\u001b[0;34m\"\"\u001b[0m\u001b[0;34m,\u001b[0m \u001b[0mend\u001b[0m\u001b[0;34m=\u001b[0m\u001b[0;34m\"\\n\"\u001b[0m\u001b[0;34m)\u001b[0m\u001b[0;34m\u001b[0m\u001b[0m\n\u001b[1;32m     15\u001b[0m \u001b[0;34m\u001b[0m\u001b[0m\n",
      "\u001b[0;31mKeyboardInterrupt\u001b[0m: "
     ]
    }
   ],
   "source": [
    "plt.rcParams[\"figure.figsize\"] = (20,10)\n",
    "\n",
    "# CALCULATE MEAN OF ALL REAL IMAGES\n",
    "r_avg_total = 0   # Total of the average of each image's red channel\n",
    "g_avg_total = 0   # ^\n",
    "b_avg_total = 0   # ^\n",
    "\n",
    "#img_width = annotation_paths[0].shape()\n",
    "for i, annotation_path in enumerate(annotation_paths):\n",
    "    print(\"Processing image \", CMD_C.OKGREEN, i, CMD_C.ENDC, \" / \", len(annotation_paths), \" : \", sep=\"\", end=\"\")\n",
    "\n",
    "    # Read image\n",
    "    img = cv2.imread(annotation_path, cv2.IMREAD_COLOR)\n",
    "    print(\"read \", sep=\"\", end=\"\\n\")\n",
    "    \n",
    "    #plt.imshow(img[:,:,0], cmap=None)\n",
    "    #print(img.shape)\n",
    "    \n",
    "    # Add the r,g,b\n",
    "    totals = np.sum(img)\n",
    "    total_r = np.sum(img[:, :, 0])\n",
    "    total_g = np.sum(img[:, :, 1])\n",
    "    total_b = np.sum(img[:, :, 2])\n",
    "    #print(\"\\ntotals for 1 image: \", totals)\n",
    "    #print(\"total r for 1 image: \", total_r)\n",
    "    #print(\"total g for 1 image: \", total_g)\n",
    "    #print(\"total b for 1 image: \", total_b)\n",
    "    #break\n",
    "    \n",
    "    r_avg_total += total_r / (img.shape[0] * img.shape[1])\n",
    "    g_avg_total += total_g / (img.shape[0] * img.shape[1])\n",
    "    b_avg_total += total_b / (img.shape[0] * img.shape[1])\n",
    "        \n",
    "avg_r = r_avg_total / len(annotation_paths)\n",
    "avg_g = g_avg_total / len(annotation_paths)\n",
    "avg_b = b_avg_total / len(annotation_paths)\n",
    "\n",
    "print(\"avg_r (channel 0) = \", avg_r)\n",
    "print(\"avg_g (channel 1)= \", avg_g)\n",
    "print(\"avg_b (channel 2)= \", avg_b)\n",
    "print(\"Done!\")"
   ]
  },
  {
   "cell_type": "code",
   "execution_count": null,
   "metadata": {},
   "outputs": [],
   "source": []
  }
 ],
 "metadata": {
  "kernelspec": {
   "display_name": "Python 3",
   "language": "python",
   "name": "python3"
  },
  "language_info": {
   "codemirror_mode": {
    "name": "ipython",
    "version": 3
   },
   "file_extension": ".py",
   "mimetype": "text/x-python",
   "name": "python",
   "nbconvert_exporter": "python",
   "pygments_lexer": "ipython3",
   "version": "3.5.2"
  }
 },
 "nbformat": 4,
 "nbformat_minor": 2
}
